{
  "metadata": {
    "kernelspec": {
      "language": "python",
      "display_name": "Python 3",
      "name": "python3"
    },
    "language_info": {
      "name": "python",
      "version": "3.7.12",
      "mimetype": "text/x-python",
      "codemirror_mode": {
        "name": "ipython",
        "version": 3
      },
      "pygments_lexer": "ipython3",
      "nbconvert_exporter": "python",
      "file_extension": ".py"
    },
    "kaggle": {
      "accelerator": "none",
      "dataSources": [
        {
          "sourceId": 3004,
          "databundleVersionId": 861823,
          "sourceType": "competition"
        }
      ],
      "dockerImageVersionId": 30380,
      "isInternetEnabled": true,
      "language": "python",
      "sourceType": "notebook",
      "isGpuEnabled": false
    },
    "colab": {
      "provenance": [],
      "include_colab_link": true
    }
  },
  "nbformat_minor": 0,
  "nbformat": 4,
  "cells": [
    {
      "cell_type": "markdown",
      "metadata": {
        "id": "view-in-github",
        "colab_type": "text"
      },
      "source": [
        "<a href=\"https://colab.research.google.com/github/Yeswanthprasad1/Deeplearning/blob/main/1_mnist_cnn.ipynb\" target=\"_parent\"><img src=\"https://colab.research.google.com/assets/colab-badge.svg\" alt=\"Open In Colab\"/></a>"
      ]
    },
    {
      "cell_type": "code",
      "source": [
        "from keras import models, layers, Sequential\n",
        "from sklearn.model_selection import train_test_split\n",
        "from keras.layers import Dense , Dropout , Conv2D , MaxPooling2D, Flatten\n",
        "from tensorflow.keras.preprocessing.image import ImageDataGenerator\n",
        "from tensorflow.keras.optimizers import Adam\n",
        "import pandas as pd\n",
        "import numpy as np\n",
        "from keras.datasets import mnist"
      ],
      "metadata": {
        "execution": {
          "iopub.status.busy": "2024-07-29T16:42:51.340071Z",
          "iopub.execute_input": "2024-07-29T16:42:51.340572Z",
          "iopub.status.idle": "2024-07-29T16:42:51.346831Z",
          "shell.execute_reply.started": "2024-07-29T16:42:51.340526Z",
          "shell.execute_reply": "2024-07-29T16:42:51.345772Z"
        },
        "trusted": true,
        "id": "giERuy3Gb4_6"
      },
      "execution_count": null,
      "outputs": []
    },
    {
      "cell_type": "code",
      "source": [
        "(X_train, y_train), (X_test, y_test) = mnist.load_data()"
      ],
      "metadata": {
        "execution": {
          "iopub.status.busy": "2024-07-29T16:42:51.359779Z",
          "iopub.execute_input": "2024-07-29T16:42:51.360792Z",
          "iopub.status.idle": "2024-07-29T16:42:51.679101Z",
          "shell.execute_reply.started": "2024-07-29T16:42:51.360746Z",
          "shell.execute_reply": "2024-07-29T16:42:51.678129Z"
        },
        "trusted": true,
        "id": "S24dprvMb4_7",
        "colab": {
          "base_uri": "https://localhost:8080/"
        },
        "outputId": "2a9dcbfb-b1a9-4542-829e-b2047c9df2b7"
      },
      "execution_count": null,
      "outputs": [
        {
          "output_type": "stream",
          "name": "stdout",
          "text": [
            "Downloading data from https://storage.googleapis.com/tensorflow/tf-keras-datasets/mnist.npz\n",
            "\u001b[1m11490434/11490434\u001b[0m \u001b[32m━━━━━━━━━━━━━━━━━━━━\u001b[0m\u001b[37m\u001b[0m \u001b[1m1s\u001b[0m 0us/step\n"
          ]
        }
      ]
    },
    {
      "cell_type": "code",
      "source": [
        "# Flatten the image data\n",
        "X_train_flat = X_train.reshape(X_train.shape[0], -1)\n",
        "X_test_flat = X_test.reshape(X_test.shape[0], -1)\n",
        "\n",
        "# Convert to pandas DataFrame\n",
        "df_train = pd.DataFrame(X_train_flat)\n",
        "df_train['label'] = y_train\n",
        "\n",
        "df_test = pd.DataFrame(X_test_flat)\n",
        "df_test['label'] = y_test\n"
      ],
      "metadata": {
        "execution": {
          "iopub.status.busy": "2024-07-29T16:42:51.68189Z",
          "iopub.execute_input": "2024-07-29T16:42:51.68225Z",
          "iopub.status.idle": "2024-07-29T16:42:51.696646Z",
          "shell.execute_reply.started": "2024-07-29T16:42:51.682201Z",
          "shell.execute_reply": "2024-07-29T16:42:51.695447Z"
        },
        "trusted": true,
        "id": "605jbV1Kb4_7"
      },
      "execution_count": null,
      "outputs": []
    },
    {
      "cell_type": "code",
      "source": [
        "# Display the first few rows of the training DataFrame\n",
        "print(df_train.head())\n",
        "\n",
        "# Display the first few rows of the test DataFrame\n",
        "print(df_test.head())"
      ],
      "metadata": {
        "execution": {
          "iopub.status.busy": "2024-07-29T16:42:51.698049Z",
          "iopub.execute_input": "2024-07-29T16:42:51.698492Z",
          "iopub.status.idle": "2024-07-29T16:42:51.72086Z",
          "shell.execute_reply.started": "2024-07-29T16:42:51.698448Z",
          "shell.execute_reply": "2024-07-29T16:42:51.719656Z"
        },
        "trusted": true,
        "id": "OMeWMC8cb4_8",
        "outputId": "6e23882a-ed69-4bc2-c00e-4a685be1f8da",
        "colab": {
          "base_uri": "https://localhost:8080/"
        }
      },
      "execution_count": null,
      "outputs": [
        {
          "output_type": "stream",
          "name": "stdout",
          "text": [
            "   0  1  2  3  4  5  6  7  8  9  ...  775  776  777  778  779  780  781  782  \\\n",
            "0  0  0  0  0  0  0  0  0  0  0  ...    0    0    0    0    0    0    0    0   \n",
            "1  0  0  0  0  0  0  0  0  0  0  ...    0    0    0    0    0    0    0    0   \n",
            "2  0  0  0  0  0  0  0  0  0  0  ...    0    0    0    0    0    0    0    0   \n",
            "3  0  0  0  0  0  0  0  0  0  0  ...    0    0    0    0    0    0    0    0   \n",
            "4  0  0  0  0  0  0  0  0  0  0  ...    0    0    0    0    0    0    0    0   \n",
            "\n",
            "   783  label  \n",
            "0    0      5  \n",
            "1    0      0  \n",
            "2    0      4  \n",
            "3    0      1  \n",
            "4    0      9  \n",
            "\n",
            "[5 rows x 785 columns]\n",
            "   0  1  2  3  4  5  6  7  8  9  ...  775  776  777  778  779  780  781  782  \\\n",
            "0  0  0  0  0  0  0  0  0  0  0  ...    0    0    0    0    0    0    0    0   \n",
            "1  0  0  0  0  0  0  0  0  0  0  ...    0    0    0    0    0    0    0    0   \n",
            "2  0  0  0  0  0  0  0  0  0  0  ...    0    0    0    0    0    0    0    0   \n",
            "3  0  0  0  0  0  0  0  0  0  0  ...    0    0    0    0    0    0    0    0   \n",
            "4  0  0  0  0  0  0  0  0  0  0  ...    0    0    0    0    0    0    0    0   \n",
            "\n",
            "   783  label  \n",
            "0    0      7  \n",
            "1    0      2  \n",
            "2    0      1  \n",
            "3    0      0  \n",
            "4    0      4  \n",
            "\n",
            "[5 rows x 785 columns]\n"
          ]
        }
      ]
    },
    {
      "cell_type": "code",
      "source": [
        "pixel_data=df_train.iloc[:,1:785] #from col 1 to 785\n",
        "label=df_train[\"label\"]\n",
        "\n",
        "number=np.array(pixel_data)\n",
        "number=number.reshape(len(pixel_data),28,28,1)"
      ],
      "metadata": {
        "execution": {
          "iopub.status.busy": "2024-07-29T16:42:51.722335Z",
          "iopub.execute_input": "2024-07-29T16:42:51.72268Z",
          "iopub.status.idle": "2024-07-29T16:42:52.2402Z",
          "shell.execute_reply.started": "2024-07-29T16:42:51.722649Z",
          "shell.execute_reply": "2024-07-29T16:42:52.239107Z"
        },
        "trusted": true,
        "id": "2DMa2IYQb4_9"
      },
      "execution_count": null,
      "outputs": []
    },
    {
      "cell_type": "code",
      "source": [
        "import matplotlib.pyplot as plt\n",
        "\n",
        "plt.imshow(number[0])\n",
        "plt.title(\"Value is: %d\" % label[0])"
      ],
      "metadata": {
        "execution": {
          "iopub.status.busy": "2024-07-29T16:42:52.241598Z",
          "iopub.execute_input": "2024-07-29T16:42:52.242018Z",
          "iopub.status.idle": "2024-07-29T16:42:52.381321Z",
          "shell.execute_reply.started": "2024-07-29T16:42:52.241976Z",
          "shell.execute_reply": "2024-07-29T16:42:52.380198Z"
        },
        "trusted": true,
        "id": "4PHTQGwLb4_9",
        "outputId": "80d4223e-89f5-4e91-ce21-6630760b5949",
        "colab": {
          "base_uri": "https://localhost:8080/",
          "height": 469
        }
      },
      "execution_count": null,
      "outputs": [
        {
          "output_type": "execute_result",
          "data": {
            "text/plain": [
              "Text(0.5, 1.0, 'Value is: 5')"
            ]
          },
          "metadata": {},
          "execution_count": 8
        },
        {
          "output_type": "display_data",
          "data": {
            "text/plain": [
              "<Figure size 640x480 with 1 Axes>"
            ],
            "image/png": "[encoded data removed]"
          },
          "metadata": {}
        }
      ]
    },
    {
      "cell_type": "code",
      "source": [
        "# Train test split\n",
        "\n",
        "X_train, X_test, y_train, y_test= train_test_split(number, label, train_size=0.2, random_state=42)"
      ],
      "metadata": {
        "execution": {
          "iopub.status.busy": "2024-07-29T16:42:52.384214Z",
          "iopub.execute_input": "2024-07-29T16:42:52.384685Z",
          "iopub.status.idle": "2024-07-29T16:42:52.772822Z",
          "shell.execute_reply.started": "2024-07-29T16:42:52.384639Z",
          "shell.execute_reply": "2024-07-29T16:42:52.771606Z"
        },
        "trusted": true,
        "id": "dPdV17Kcb4_-"
      },
      "execution_count": null,
      "outputs": []
    },
    {
      "cell_type": "code",
      "source": [
        "# Initialize an image data generator for data augmentation or preprocessing\n",
        "img_data_gen = ImageDataGenerator()\n",
        "\n",
        "# Create a sequential model\n",
        "model = Sequential()\n",
        "\n",
        "# Add the first convolutional layer with 8 filters, a 3x3 kernel, ReLU activation, and an input shape of 28x28x1 (grayscale images)\n",
        "model.add(Conv2D(8, kernel_size=(3, 3), activation='relu', input_shape=(28, 28, 1)))\n",
        "\n",
        "# Add a second convolutional layer with 16 filters and a 3x3 kernel\n",
        "model.add(Conv2D(16, kernel_size=(3, 3), activation='relu'))\n",
        "\n",
        "# Add a max pooling layer to downsample the feature maps by a factor of 2\n",
        "model.add(MaxPooling2D(pool_size=(2, 2)))\n",
        "\n",
        "# Add a dropout layer to prevent overfitting by randomly setting 25% of the input units to 0\n",
        "model.add(Dropout(0.25))\n",
        "\n",
        "# Add a third convolutional layer with 32 filters and a 3x3 kernel\n",
        "model.add(Conv2D(32, kernel_size=(3, 3), activation='relu'))\n",
        "\n",
        "# Add another max pooling layer to downsample the feature maps by a factor of 2\n",
        "model.add(MaxPooling2D(pool_size=(2, 2)))\n",
        "\n",
        "# Add a fourth convolutional layer with 32 filters and a 3x3 kernel\n",
        "model.add(Conv2D(32, kernel_size=(3, 3), activation='relu'))\n",
        "\n",
        "# Add another max pooling layer to downsample the feature maps by a factor of 2\n",
        "model.add(MaxPooling2D(pool_size=(2, 2)))\n",
        "\n",
        "# Add another dropout layer to prevent overfitting by randomly setting 25% of the input units to 0\n",
        "model.add(Dropout(0.25))\n",
        "\n",
        "# Flatten the 3D feature maps to 1D feature vectors\n",
        "model.add(Flatten())\n",
        "\n",
        "# Add a dense (fully connected) layer with 64 units and ReLU activation\n",
        "model.add(Dense(64, activation='relu'))\n",
        "\n",
        "# Add a dropout layer to prevent overfitting by randomly setting 50% of the input units to 0\n",
        "model.add(Dropout(0.5))\n",
        "\n",
        "# Add a dense (fully connected) output layer with 10 units (one for each class) and softmax activation\n",
        "model.add(Dense(10, activation='softmax'))"
      ],
      "metadata": {
        "execution": {
          "iopub.status.busy": "2024-07-29T16:42:52.774303Z",
          "iopub.execute_input": "2024-07-29T16:42:52.774666Z",
          "iopub.status.idle": "2024-07-29T16:42:52.864185Z",
          "shell.execute_reply.started": "2024-07-29T16:42:52.774633Z",
          "shell.execute_reply": "2024-07-29T16:42:52.863213Z"
        },
        "trusted": true,
        "id": "4uBlvTD6b4_-",
        "colab": {
          "base_uri": "https://localhost:8080/"
        },
        "outputId": "7ee49b02-e048-4dd7-a96e-89b518bf725f"
      },
      "execution_count": null,
      "outputs": [
        {
          "output_type": "stream",
          "name": "stderr",
          "text": [
            "/usr/local/lib/python3.10/dist-packages/keras/src/layers/convolutional/base_conv.py:107: UserWarning: Do not pass an `input_shape`/`input_dim` argument to a layer. When using Sequential models, prefer using an `Input(shape)` object as the first layer in the model instead.\n",
            "  super().__init__(activity_regularizer=activity_regularizer, **kwargs)\n"
          ]
        }
      ]
    },
    {
      "cell_type": "code",
      "source": [
        "# Compile the model\n",
        "model.compile(loss='sparse_categorical_crossentropy', optimizer='adam', metrics=['accuracy'])"
      ],
      "metadata": {
        "execution": {
          "iopub.status.busy": "2024-07-29T16:42:52.865561Z",
          "iopub.execute_input": "2024-07-29T16:42:52.865985Z",
          "iopub.status.idle": "2024-07-29T16:42:52.876874Z",
          "shell.execute_reply.started": "2024-07-29T16:42:52.865945Z",
          "shell.execute_reply": "2024-07-29T16:42:52.875679Z"
        },
        "trusted": true,
        "id": "Lxml4cA2b4_-"
      },
      "execution_count": null,
      "outputs": []
    },
    {
      "cell_type": "code",
      "source": [
        "model.fit(X_train, y_train,epochs=27)"
      ],
      "metadata": {
        "execution": {
          "iopub.status.busy": "2024-07-29T16:42:52.878581Z",
          "iopub.execute_input": "2024-07-29T16:42:52.879678Z",
          "iopub.status.idle": "2024-07-29T16:44:17.988596Z",
          "shell.execute_reply.started": "2024-07-29T16:42:52.879631Z",
          "shell.execute_reply": "2024-07-29T16:44:17.987418Z"
        },
        "trusted": true,
        "id": "aJEg2uhub4__",
        "outputId": "7f999a0a-3333-4f81-9ef4-291a517dc973",
        "colab": {
          "base_uri": "https://localhost:8080/"
        }
      },
      "execution_count": null,
      "outputs": [
        {
          "output_type": "stream",
          "name": "stdout",
          "text": [
            "Epoch 1/27\n",
            "\u001b[1m375/375\u001b[0m \u001b[32m━━━━━━━━━━━━━━━━━━━━\u001b[0m\u001b[37m\u001b[0m \u001b[1m12s\u001b[0m 31ms/step - accuracy: 0.9168 - loss: 0.2514\n",
            "Epoch 2/27\n",
            "\u001b[1m375/375\u001b[0m \u001b[32m━━━━━━━━━━━━━━━━━━━━\u001b[0m\u001b[37m\u001b[0m \u001b[1m19s\u001b[0m 27ms/step - accuracy: 0.9185 - loss: 0.2389\n",
            "Epoch 3/27\n",
            "\u001b[1m375/375\u001b[0m \u001b[32m━━━━━━━━━━━━━━━━━━━━\u001b[0m\u001b[37m\u001b[0m \u001b[1m9s\u001b[0m 24ms/step - accuracy: 0.9163 - loss: 0.2449\n",
            "Epoch 4/27\n",
            "\u001b[1m375/375\u001b[0m \u001b[32m━━━━━━━━━━━━━━━━━━━━\u001b[0m\u001b[37m\u001b[0m \u001b[1m10s\u001b[0m 27ms/step - accuracy: 0.9209 - loss: 0.2361\n",
            "Epoch 5/27\n",
            "\u001b[1m375/375\u001b[0m \u001b[32m━━━━━━━━━━━━━━━━━━━━\u001b[0m\u001b[37m\u001b[0m \u001b[1m10s\u001b[0m 27ms/step - accuracy: 0.9186 - loss: 0.2351\n",
            "Epoch 6/27\n",
            "\u001b[1m375/375\u001b[0m \u001b[32m━━━━━━━━━━━━━━━━━━━━\u001b[0m\u001b[37m\u001b[0m \u001b[1m20s\u001b[0m 25ms/step - accuracy: 0.9250 - loss: 0.2332\n",
            "Epoch 7/27\n",
            "\u001b[1m375/375\u001b[0m \u001b[32m━━━━━━━━━━━━━━━━━━━━\u001b[0m\u001b[37m\u001b[0m \u001b[1m10s\u001b[0m 27ms/step - accuracy: 0.9267 - loss: 0.2241\n",
            "Epoch 8/27\n",
            "\u001b[1m375/375\u001b[0m \u001b[32m━━━━━━━━━━━━━━━━━━━━\u001b[0m\u001b[37m\u001b[0m \u001b[1m10s\u001b[0m 27ms/step - accuracy: 0.9287 - loss: 0.2213\n",
            "Epoch 9/27\n",
            "\u001b[1m375/375\u001b[0m \u001b[32m━━━━━━━━━━━━━━━━━━━━\u001b[0m\u001b[37m\u001b[0m \u001b[1m9s\u001b[0m 23ms/step - accuracy: 0.9298 - loss: 0.2068\n",
            "Epoch 10/27\n",
            "\u001b[1m375/375\u001b[0m \u001b[32m━━━━━━━━━━━━━━━━━━━━\u001b[0m\u001b[37m\u001b[0m \u001b[1m11s\u001b[0m 26ms/step - accuracy: 0.9282 - loss: 0.2261\n",
            "Epoch 11/27\n",
            "\u001b[1m375/375\u001b[0m \u001b[32m━━━━━━━━━━━━━━━━━━━━\u001b[0m\u001b[37m\u001b[0m \u001b[1m10s\u001b[0m 28ms/step - accuracy: 0.9394 - loss: 0.1779\n",
            "Epoch 12/27\n",
            "\u001b[1m375/375\u001b[0m \u001b[32m━━━━━━━━━━━━━━━━━━━━\u001b[0m\u001b[37m\u001b[0m \u001b[1m19s\u001b[0m 25ms/step - accuracy: 0.9313 - loss: 0.2056\n",
            "Epoch 13/27\n",
            "\u001b[1m375/375\u001b[0m \u001b[32m━━━━━━━━━━━━━━━━━━━━\u001b[0m\u001b[37m\u001b[0m \u001b[1m9s\u001b[0m 25ms/step - accuracy: 0.9360 - loss: 0.1972\n",
            "Epoch 14/27\n",
            "\u001b[1m375/375\u001b[0m \u001b[32m━━━━━━━━━━━━━━━━━━━━\u001b[0m\u001b[37m\u001b[0m \u001b[1m12s\u001b[0m 29ms/step - accuracy: 0.9256 - loss: 0.2109\n",
            "Epoch 15/27\n",
            "\u001b[1m375/375\u001b[0m \u001b[32m━━━━━━━━━━━━━━━━━━━━\u001b[0m\u001b[37m\u001b[0m \u001b[1m19s\u001b[0m 25ms/step - accuracy: 0.9373 - loss: 0.1909\n",
            "Epoch 16/27\n",
            "\u001b[1m375/375\u001b[0m \u001b[32m━━━━━━━━━━━━━━━━━━━━\u001b[0m\u001b[37m\u001b[0m \u001b[1m9s\u001b[0m 23ms/step - accuracy: 0.9436 - loss: 0.1669\n",
            "Epoch 17/27\n",
            "\u001b[1m375/375\u001b[0m \u001b[32m━━━━━━━━━━━━━━━━━━━━\u001b[0m\u001b[37m\u001b[0m \u001b[1m10s\u001b[0m 28ms/step - accuracy: 0.9397 - loss: 0.1769\n",
            "Epoch 18/27\n",
            "\u001b[1m375/375\u001b[0m \u001b[32m━━━━━━━━━━━━━━━━━━━━\u001b[0m\u001b[37m\u001b[0m \u001b[1m11s\u001b[0m 29ms/step - accuracy: 0.9387 - loss: 0.1733\n",
            "Epoch 19/27\n",
            "\u001b[1m375/375\u001b[0m \u001b[32m━━━━━━━━━━━━━━━━━━━━\u001b[0m\u001b[37m\u001b[0m \u001b[1m19s\u001b[0m 25ms/step - accuracy: 0.9336 - loss: 0.1857\n",
            "Epoch 20/27\n",
            "\u001b[1m375/375\u001b[0m \u001b[32m━━━━━━━━━━━━━━━━━━━━\u001b[0m\u001b[37m\u001b[0m \u001b[1m11s\u001b[0m 28ms/step - accuracy: 0.9387 - loss: 0.1697\n",
            "Epoch 21/27\n",
            "\u001b[1m375/375\u001b[0m \u001b[32m━━━━━━━━━━━━━━━━━━━━\u001b[0m\u001b[37m\u001b[0m \u001b[1m20s\u001b[0m 27ms/step - accuracy: 0.9361 - loss: 0.1878\n",
            "Epoch 22/27\n",
            "\u001b[1m375/375\u001b[0m \u001b[32m━━━━━━━━━━━━━━━━━━━━\u001b[0m\u001b[37m\u001b[0m \u001b[1m8s\u001b[0m 22ms/step - accuracy: 0.9422 - loss: 0.1642\n",
            "Epoch 23/27\n",
            "\u001b[1m375/375\u001b[0m \u001b[32m━━━━━━━━━━━━━━━━━━━━\u001b[0m\u001b[37m\u001b[0m \u001b[1m10s\u001b[0m 26ms/step - accuracy: 0.9417 - loss: 0.1663\n",
            "Epoch 24/27\n",
            "\u001b[1m375/375\u001b[0m \u001b[32m━━━━━━━━━━━━━━━━━━━━\u001b[0m\u001b[37m\u001b[0m \u001b[1m10s\u001b[0m 27ms/step - accuracy: 0.9395 - loss: 0.1738\n",
            "Epoch 25/27\n",
            "\u001b[1m375/375\u001b[0m \u001b[32m━━━━━━━━━━━━━━━━━━━━\u001b[0m\u001b[37m\u001b[0m \u001b[1m9s\u001b[0m 23ms/step - accuracy: 0.9465 - loss: 0.1415\n",
            "Epoch 26/27\n",
            "\u001b[1m375/375\u001b[0m \u001b[32m━━━━━━━━━━━━━━━━━━━━\u001b[0m\u001b[37m\u001b[0m \u001b[1m10s\u001b[0m 27ms/step - accuracy: 0.9508 - loss: 0.1655\n",
            "Epoch 27/27\n",
            "\u001b[1m375/375\u001b[0m \u001b[32m━━━━━━━━━━━━━━━━━━━━\u001b[0m\u001b[37m\u001b[0m \u001b[1m10s\u001b[0m 27ms/step - accuracy: 0.9495 - loss: 0.1612\n"
          ]
        },
        {
          "output_type": "execute_result",
          "data": {
            "text/plain": [
              "<keras.src.callbacks.history.History at 0x7abd01a35840>"
            ]
          },
          "metadata": {},
          "execution_count": 28
        }
      ]
    },
    {
      "cell_type": "code",
      "source": [
        "# Test using validation set\n",
        "y_pred = model.predict(X_test)\n",
        "y_predict = [np.argmax(y_pred[i]) for i in range(len(y_pred))]"
      ],
      "metadata": {
        "execution": {
          "iopub.status.busy": "2024-07-29T16:44:17.989895Z",
          "iopub.execute_input": "2024-07-29T16:44:17.990237Z",
          "iopub.status.idle": "2024-07-29T16:44:22.804836Z",
          "shell.execute_reply.started": "2024-07-29T16:44:17.990191Z",
          "shell.execute_reply": "2024-07-29T16:44:22.80375Z"
        },
        "trusted": true,
        "id": "74WShm1fb4__",
        "colab": {
          "base_uri": "https://localhost:8080/"
        },
        "outputId": "8ea6e53d-aa9a-4f63-a8d3-af38963cf2a8"
      },
      "execution_count": null,
      "outputs": [
        {
          "output_type": "stream",
          "name": "stdout",
          "text": [
            "\u001b[1m1500/1500\u001b[0m \u001b[32m━━━━━━━━━━━━━━━━━━━━\u001b[0m\u001b[37m\u001b[0m \u001b[1m15s\u001b[0m 10ms/step\n"
          ]
        }
      ]
    },
    {
      "cell_type": "code",
      "source": [
        "# Verify the actual and predicted value\n",
        "y_list = y_test.to_list()\n",
        "plt.figure(figsize=(10,10))\n",
        "for i in range(9):\n",
        "    plt.subplot(3,3,i+1)\n",
        "    plt.imshow(X_test[i])\n",
        "    plt.axis('off')\n",
        "    plt.title('actual value : %d' %y_list[i]+ '\\n predicted value is : %d ' % y_predict[i])"
      ],
      "metadata": {
        "execution": {
          "iopub.status.busy": "2024-07-29T16:44:22.808349Z",
          "iopub.execute_input": "2024-07-29T16:44:22.808757Z",
          "iopub.status.idle": "2024-07-29T16:44:23.43703Z",
          "shell.execute_reply.started": "2024-07-29T16:44:22.808721Z",
          "shell.execute_reply": "2024-07-29T16:44:23.435929Z"
        },
        "trusted": true,
        "id": "2ChdYcdjb4__",
        "outputId": "f6fbf24c-f185-46ff-8f8f-72eb6607c269",
        "colab": {
          "base_uri": "https://localhost:8080/",
          "height": 850
        }
      },
      "execution_count": null,
      "outputs": [
        {
          "output_type": "display_data",
          "data": {
            "text/plain": [
              "<Figure size 1000x1000 with 9 Axes>"
            ],
            "image/png": "[encoded data removed]"
          },
          "metadata": {}
        }
      ]
    },
    {
      "cell_type": "code",
      "source": [
        "# validation for the accuracy\n",
        "from sklearn.metrics import accuracy_score\n",
        "print(\"Accuracy:\", accuracy_score(y_test,y_predict))"
      ],
      "metadata": {
        "execution": {
          "iopub.status.busy": "2024-07-29T16:44:23.438476Z",
          "iopub.execute_input": "2024-07-29T16:44:23.43882Z",
          "iopub.status.idle": "2024-07-29T16:44:23.45794Z",
          "shell.execute_reply.started": "2024-07-29T16:44:23.438784Z",
          "shell.execute_reply": "2024-07-29T16:44:23.456828Z"
        },
        "trusted": true,
        "id": "_FDcOaiXb4__",
        "outputId": "d10726d5-0c8e-4f4c-b767-afb259ed2f9d",
        "colab": {
          "base_uri": "https://localhost:8080/"
        }
      },
      "execution_count": null,
      "outputs": [
        {
          "output_type": "stream",
          "name": "stdout",
          "text": [
            "Accuracy: 0.9798541666666667\n"
          ]
        }
      ]
    }
  ]
}